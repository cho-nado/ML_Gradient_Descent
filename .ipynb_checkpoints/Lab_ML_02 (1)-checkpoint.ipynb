{
 "cells": [
  {
   "cell_type": "markdown",
   "metadata": {
    "id": "lwCIXP-4Kd6-"
   },
   "source": [
    "# Lab Work №2\n",
    "## Global Optimization and Metaheuristic Algorithms\n",
    "\n",
    "In Pygmo, program two test functions of your own and find their optimum using three different algorithms available in the library. Generate a comparison table."
   ]
  },
  {
   "cell_type": "markdown",
   "metadata": {
    "id": "nKeb0JwORtfA"
   },
   "source": [
    "## Importing necessary libraries"
   ]
  },
  {
   "cell_type": "code",
   "execution_count": null,
   "metadata": {},
   "outputs": [],
   "source": [
    "pip install --upgrade pip"
   ]
  },
  {
   "cell_type": "code",
   "execution_count": null,
   "metadata": {},
   "outputs": [],
   "source": [
    "pip install scipy"
   ]
  },
  {
   "cell_type": "code",
   "execution_count": null,
   "metadata": {},
   "outputs": [],
   "source": [
    "pip install cloudpickle"
   ]
  },
  {
   "cell_type": "code",
   "execution_count": null,
   "metadata": {},
   "outputs": [],
   "source": [
    "pip install pandas"
   ]
  },
  {
   "cell_type": "code",
   "execution_count": null,
   "metadata": {
    "colab": {
     "base_uri": "https://localhost:8080/"
    },
    "id": "06UTihfHKcGQ",
    "outputId": "6b4c9272-73b1-4de3-9458-f19c493d3829"
   },
   "outputs": [],
   "source": [
    "pip install matplotlib"
   ]
  },
  {
   "cell_type": "code",
   "execution_count": 8,
   "metadata": {
    "id": "nJR1Ods76R4Q"
   },
   "outputs": [],
   "source": [
    "from matplotlib import pyplot as plt\n",
    "import pygmo as pg\n",
    "import numpy as np\n",
    "from typing import Mapping, Tuple\n",
    "import pandas as pd"
   ]
  },
  {
   "cell_type": "markdown",
   "metadata": {
    "id": "GCFGNJm3KxIo"
   },
   "source": [
    "## Matyas Function"
   ]
  },
  {
   "cell_type": "code",
   "execution_count": 9,
   "metadata": {
    "id": "xormx2b20R9R"
   },
   "outputs": [],
   "source": [
    "class Matiac():\n",
    "  @staticmethod\n",
    "  def fitness(x):\n",
    "        return [0.26*(x[0]*x[0] +x[1]*x[1])-0.48*x[0]*x[1]]\n",
    "\n",
    "  @staticmethod\n",
    "  def get_bounds():\n",
    "    return np.array([[-10, -10], [10, 10]])\n",
    "\n",
    "  @staticmethod\n",
    "  def get_min():\n",
    "        return np.array([0., 0., 0.])"
   ]
  },
  {
   "cell_type": "markdown",
   "metadata": {
    "id": "APu5TgBFSWHt"
   },
   "source": [
    "## Levi Function No. 13"
   ]
  },
  {
   "cell_type": "code",
   "execution_count": 10,
   "metadata": {
    "id": "HaGyeZog0WJC"
   },
   "outputs": [],
   "source": [
    "class Levi():\n",
    "  @staticmethod\n",
    "  def fitness(x):\n",
    "        return [np.sin(3 * np.pi * x[0])**2 + (x[0] - 1)**2 * (1 + np.sin(3 * np.pi * x[1])**2) + (x[1] - 1)**2 * (1 + np.sin(2 * np.pi * x[1])**2)]\n",
    "\n",
    "  @staticmethod\n",
    "  def get_bounds():\n",
    "    return np.array([[-10, -10], [10, 10]])\n",
    "\n",
    "  @staticmethod\n",
    "  def get_min():\n",
    "        return np.array([1., 1., 0.])\n"
   ]
  },
  {
   "cell_type": "markdown",
   "metadata": {
    "id": "lUsE1UGgLHgH"
   },
   "source": [
    "## Evolutionary Optimization for the Given Functions"
   ]
  },
  {
   "cell_type": "code",
   "execution_count": 11,
   "metadata": {
    "id": "qAEL3yUv7nbi"
   },
   "outputs": [],
   "source": [
    "problem_mat = pg.problem(Matiac())\n",
    "problem_levi = pg.problem(Levi())"
   ]
  },
  {
   "cell_type": "code",
   "execution_count": 12,
   "metadata": {
    "id": "peLT99xsUEuj"
   },
   "outputs": [],
   "source": [
    "def get_algo_pop(prob, algo_f: Mapping, pops: int = 1000, **params):\n",
    "    \"\"\"Get algo and pop\n",
    "    \n",
    "       Args:\n",
    "           prob (Generic): general problem\n",
    "           algo_f (Mapping): solving method\n",
    "           pops (int, optional): number of \"individuals\". Defaults to 1000\n",
    "           *kwargs: gen=..., limit=..., etc.\n",
    "    \n",
    "       Return:\n",
    "           Tuple: algo, pop\n",
    "    \"\"\"\n",
    "\n",
    "    pop = pg.population(prob, pops)\n",
    "    algo = pg.algorithm(algo_f(**params))\n",
    "    pop = pg.population(prob, pops)\n",
    "    pop = algo.evolve(pop)\n",
    "\n",
    "    return algo, pop"
   ]
  },
  {
   "cell_type": "markdown",
   "metadata": {
    "id": "-Mdztz1kYpNL"
   },
   "source": [
    "## Creating Comparison Tables"
   ]
  },
  {
   "cell_type": "code",
   "execution_count": 13,
   "metadata": {
    "id": "sDPc9hBTvdpG"
   },
   "outputs": [],
   "source": [
    "def table(v):\n",
    "  table = pd.DataFrame({'Values':['X' , 'Y' , 'F' , 'E'],\n",
    "                        f'{v[0]}':[f'{v[1]}' , f'{v[2]}' , f'{v[3]}' , f'{v[3] - v[12][2]}'],\n",
    "                        f'{v[4]}':[f'{v[5]}' , f'{v[6]}' , f'{v[7]}' , f'{v[7] - v[12][2]}'],\n",
    "                        f'{v[8]}':[f'{v[9]}' , f'{v[10]}' , f'{v[11]}' , f'{v[11] - v[12][2]}']})\n",
    "  print(table)"
   ]
  },
  {
   "cell_type": "markdown",
   "metadata": {
    "id": "w_l9WzxmVlKB"
   },
   "source": [
    "## For Matyas:"
   ]
  },
  {
   "cell_type": "code",
   "execution_count": 14,
   "metadata": {
    "colab": {
     "base_uri": "https://localhost:8080/"
    },
    "id": "Qm956nnXUAOb",
    "outputId": "179f1a03-4524-4275-c429-97efc6352487"
   },
   "outputs": [
    {
     "name": "stdout",
     "output_type": "stream",
     "text": [
      "  Values         Self-Adaptive DE Differential Evolution (DE)  \\\n",
      "0      X  -2.7857280913879316e-06      -2.936457840993779e-05   \n",
      "1      Y  -1.3033019536541731e-06      -2.750214919944927e-05   \n",
      "2      F         [7.22538207e-11]            [2.01632996e-10]   \n",
      "3      E         [7.22538207e-11]            [2.01632996e-10]   \n",
      "\n",
      "  Simple Genetic Algorithm (SGA)  \n",
      "0            0.02201632033599355  \n",
      "1           0.022773547435574516  \n",
      "2                   [0.00072266]  \n",
      "3                   [0.00072266]  \n"
     ]
    }
   ],
   "source": [
    "# de - Differential Evolution (DE)\n",
    "# sade - Self-Adaptive DE (jDE and iDE)\n",
    "# sga - Simple Genetic Algorithm (SGA)\n",
    "\n",
    "sade_mat_x, de_mat_x, sga_mat_x = 0.0, 0.0, 0.0\n",
    "sade_mat_y, de_mat_y, sga_mat_y = 0.0, 0.0, 0.0\n",
    "sade_mat_f, de_mat_f, sga_mat_f = 0.0, 0.0, 0.0\n",
    "for _ in range(10):\n",
    "  algo_1, pop_1 = get_algo_pop(problem_mat, pg.sade, gen=60)\n",
    "  algo_2, pop_2 = get_algo_pop(problem_mat, pg.de, gen=60)\n",
    "  algo_3, pop_3 = get_algo_pop(problem_mat, pg.sga, gen=60)\n",
    "  sade_mat_x += pop_1.champion_x[0]\n",
    "  de_mat_x += pop_2.champion_x[0]\n",
    "  sga_mat_x += pop_3.champion_x[0]\n",
    "  sade_mat_y += pop_1.champion_x[1]\n",
    "  de_mat_y += pop_2.champion_x[1]\n",
    "  sga_mat_y += pop_3.champion_x[1]\n",
    "  sade_mat_f += pop_1.champion_f\n",
    "  de_mat_f += pop_2.champion_f\n",
    "  sga_mat_f += pop_3.champion_f\n",
    "\n",
    "sade_mat_x = sade_mat_x / 10.0\n",
    "de_mat_x = de_mat_x / 10.0\n",
    "sga_mat_x = sga_mat_x / 10.0\n",
    "sade_mat_y = sade_mat_y / 10.0\n",
    "de_mat_y = de_mat_y / 10.0\n",
    "sga_mat_y = sga_mat_y / 10.0\n",
    "sade_mat_f = sade_mat_f / 10.0\n",
    "de_mat_f = de_mat_f / 10.0\n",
    "sga_mat_f = sga_mat_f / 10.0\n",
    "\n",
    "values_mat = ['Self-Adaptive DE', sade_mat_x, sade_mat_y, sade_mat_f, 'Differential Evolution (DE)', de_mat_x, de_mat_y, de_mat_f, 'Simple Genetic Algorithm (SGA)', sga_mat_x, sga_mat_y, sga_mat_f, Matiac.get_min()]\n",
    "table(values_mat)"
   ]
  },
  {
   "cell_type": "markdown",
   "metadata": {
    "id": "zmyxue-oVfd8"
   },
   "source": [
    "## For Levi No. 13:"
   ]
  },
  {
   "cell_type": "code",
   "execution_count": 15,
   "metadata": {
    "colab": {
     "base_uri": "https://localhost:8080/"
    },
    "id": "RkbHKx58wTzk",
    "outputId": "c44ea7c7-ea65-49ce-ec96-c761db5e4dd0"
   },
   "outputs": [
    {
     "name": "stdout",
     "output_type": "stream",
     "text": [
      "  Values    Self-Adaptive DE Differential Evolution (DE)  \\\n",
      "0      X  0.9999999331200142          1.0000009746264005   \n",
      "1      Y  0.9999986809930407          1.0000051248816195   \n",
      "2      F    [1.80833109e-11]            [6.56363523e-10]   \n",
      "3      E    [1.80833109e-11]            [6.56363523e-10]   \n",
      "\n",
      "  Simple Genetic Algorithm (SGA)  \n",
      "0             1.0022930152034097  \n",
      "1               1.00184726939206  \n",
      "2                   [0.00197955]  \n",
      "3                   [0.00197955]  \n"
     ]
    }
   ],
   "source": [
    "# de - Differential Evolution (DE)\n",
    "# sade - Self-Adaptive DE (jDE and iDE)\n",
    "# sga - Simple Genetic Algorithm (SGA)\n",
    "\n",
    "sade_levi_x, de_levi_x, sga_levi_x = 0.0, 0.0, 0.0\n",
    "sade_levi_y, de_levi_y, sga_levi_y = 0.0, 0.0, 0.0\n",
    "sade_levi_f, de_levi_f, sga_levi_f = 0.0, 0.0, 0.0\n",
    "for _ in range(10):\n",
    "  algo_1, pop_1 = get_algo_pop(problem_levi, pg.sade, gen=60)\n",
    "  algo_2, pop_2 = get_algo_pop(problem_levi, pg.de, gen=60)\n",
    "  algo_3, pop_3 = get_algo_pop(problem_levi, pg.sga, gen=60)\n",
    "  sade_levi_x += pop_1.champion_x[0]\n",
    "  de_levi_x += pop_2.champion_x[0]\n",
    "  sga_levi_x += pop_3.champion_x[0]\n",
    "  sade_levi_y += pop_1.champion_x[1]\n",
    "  de_levi_y += pop_2.champion_x[1]\n",
    "  sga_levi_y += pop_3.champion_x[1]\n",
    "  sade_levi_f += pop_1.champion_f\n",
    "  de_levi_f += pop_2.champion_f\n",
    "  sga_levi_f += pop_3.champion_f\n",
    "\n",
    "sade_levi_x = sade_levi_x / 10.0\n",
    "de_levi_x = de_levi_x / 10.0\n",
    "sga_levi_x = sga_levi_x / 10.0\n",
    "sade_levi_y = sade_levi_y / 10.0\n",
    "de_levi_y = de_levi_y / 10.0\n",
    "sga_levi_y = sga_levi_y / 10.0\n",
    "sade_levi_f = sade_levi_f / 10.0\n",
    "de_levi_f = de_levi_f / 10.0\n",
    "sga_levi_f = sga_levi_f / 10.0\n",
    "\n",
    "values_levi = ['Self-Adaptive DE', sade_levi_x, sade_levi_y, sade_levi_f, 'Differential Evolution (DE)', de_levi_x, de_levi_y, de_levi_f, 'Simple Genetic Algorithm (SGA)', sga_levi_x, sga_levi_y, sga_levi_f, Levi.get_min()]\n",
    "table(values_levi)"
   ]
  },
  {
   "cell_type": "code",
   "execution_count": null,
   "metadata": {},
   "outputs": [],
   "source": []
  }
 ],
 "metadata": {
  "colab": {
   "provenance": []
  },
  "kernelspec": {
   "display_name": "Python 3 (ipykernel)",
   "language": "python",
   "name": "python3"
  },
  "language_info": {
   "codemirror_mode": {
    "name": "ipython",
    "version": 3
   },
   "file_extension": ".py",
   "mimetype": "text/x-python",
   "name": "python",
   "nbconvert_exporter": "python",
   "pygments_lexer": "ipython3",
   "version": "3.10.13"
  }
 },
 "nbformat": 4,
 "nbformat_minor": 4
}
